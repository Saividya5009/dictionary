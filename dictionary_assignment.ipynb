{
  "nbformat": 4,
  "nbformat_minor": 0,
  "metadata": {
    "colab": {
      "name": "dictionary assignment.ipynb",
      "provenance": [],
      "authorship_tag": "ABX9TyPicEjo2nPKWjocdlZ3qdLo",
      "include_colab_link": true
    },
    "kernelspec": {
      "name": "python3",
      "display_name": "Python 3"
    }
  },
  "cells": [
    {
      "cell_type": "markdown",
      "metadata": {
        "id": "view-in-github",
        "colab_type": "text"
      },
      "source": [
        "<a href=\"https://colab.research.google.com/github/Saividya5009/dictionary/blob/master/dictionary_assignment.ipynb\" target=\"_parent\"><img src=\"https://colab.research.google.com/assets/colab-badge.svg\" alt=\"Open In Colab\"/></a>"
      ]
    },
    {
      "cell_type": "markdown",
      "metadata": {
        "id": "BTcYCfJXSH48",
        "colab_type": "text"
      },
      "source": [
        "#what is dictionary in python? explain with an example\n",
        "\n",
        "Dictionary is an unorderd sequence data structure.dictionaries are represented by curly braces{}.It is consists of key:values paires.keys are immutble.values are muttable.The values are duplicate.\n",
        "\n"
      ]
    },
    {
      "cell_type": "code",
      "metadata": {
        "id": "bhHNntDySX_W",
        "colab_type": "code",
        "colab": {
          "base_uri": "https://localhost:8080/",
          "height": 34
        },
        "outputId": "75453c00-a773-4884-f63a-e7a47b19037d"
      },
      "source": [
        "d1={1:\"a\",2:\"b\",3:\"c\"}\n",
        "print(d1,type(d1))"
      ],
      "execution_count": 31,
      "outputs": [
        {
          "output_type": "stream",
          "text": [
            "{1: 'a', 2: 'b', 3: 'c'} <class 'dict'>\n"
          ],
          "name": "stdout"
        }
      ]
    },
    {
      "cell_type": "markdown",
      "metadata": {
        "id": "H9KdwPXWAFfI",
        "colab_type": "text"
      },
      "source": [
        "#write a python program to sum all the items in a list."
      ]
    },
    {
      "cell_type": "code",
      "metadata": {
        "id": "n3wc30UHAZ7E",
        "colab_type": "code",
        "colab": {
          "base_uri": "https://localhost:8080/",
          "height": 34
        },
        "outputId": "a7786bfc-42d4-4e45-9977-3cc29769c021"
      },
      "source": [
        "list=[1,3,6,7]\n",
        "sum=0\n",
        "for i in list:\n",
        "  sum=sum+i\n",
        "print(sum)"
      ],
      "execution_count": 2,
      "outputs": [
        {
          "output_type": "stream",
          "text": [
            "17\n"
          ],
          "name": "stdout"
        }
      ]
    },
    {
      "cell_type": "markdown",
      "metadata": {
        "id": "GZpJ2AVNBBCw",
        "colab_type": "text"
      },
      "source": [
        "#write a python program to create a list of empty dictionaries."
      ]
    },
    {
      "cell_type": "code",
      "metadata": {
        "id": "4gF0nUoBBMTK",
        "colab_type": "code",
        "colab": {
          "base_uri": "https://localhost:8080/",
          "height": 34
        },
        "outputId": "8176f622-587d-4e98-ce20-5f223e5ad85e"
      },
      "source": [
        "list=[{},{},{},{}]\n",
        "print(list,type(list))"
      ],
      "execution_count": 4,
      "outputs": [
        {
          "output_type": "stream",
          "text": [
            "[{}, {}, {}, {}] <class 'list'>\n"
          ],
          "name": "stdout"
        }
      ]
    },
    {
      "cell_type": "markdown",
      "metadata": {
        "id": "QM28qWE_Cy4J",
        "colab_type": "text"
      },
      "source": [
        "#write a python program to access dictionary keys element by index."
      ]
    },
    {
      "cell_type": "code",
      "metadata": {
        "id": "JDnxIZnYDCec",
        "colab_type": "code",
        "colab": {
          "base_uri": "https://localhost:8080/",
          "height": 68
        },
        "outputId": "79571d01-254a-4882-c7b0-9a550bda7408"
      },
      "source": [
        "dict1= {'physics': 80, 'math': 90, 'chemistry': 86}\n",
        "index=0\n",
        "for item in dict1:\n",
        "  print(\"index\",index,\"has\",dict1[item])\n",
        "  index=index+1\n"
      ],
      "execution_count": 30,
      "outputs": [
        {
          "output_type": "stream",
          "text": [
            "index 0 has 80\n",
            "index 1 has 90\n",
            "index 2 has 86\n"
          ],
          "name": "stdout"
        }
      ]
    },
    {
      "cell_type": "markdown",
      "metadata": {
        "id": "PV-lCu5tErLv",
        "colab_type": "text"
      },
      "source": [
        "#write a python program to iterate over dictionaries using for loops."
      ]
    },
    {
      "cell_type": "code",
      "metadata": {
        "id": "VpaJBnSNFeF7",
        "colab_type": "code",
        "colab": {
          "base_uri": "https://localhost:8080/",
          "height": 85
        },
        "outputId": "2a1adad0-8ffb-4b9a-bbf6-44f25a5623e1"
      },
      "source": [
        "d={\"a\":1,\"b\":2,\"c\":3,\"d\":4}\n",
        "for i,value in d.items():\n",
        "  print(i,\"coressponds to\",d[i])\n"
      ],
      "execution_count": 21,
      "outputs": [
        {
          "output_type": "stream",
          "text": [
            "a coressponds to 1\n",
            "b coressponds to 2\n",
            "c coressponds to 3\n",
            "d coressponds to 4\n"
          ],
          "name": "stdout"
        }
      ]
    },
    {
      "cell_type": "markdown",
      "metadata": {
        "id": "gi4BTb9OGtHs",
        "colab_type": "text"
      },
      "source": [
        "#write a python program to sum all elements in a dictionary."
      ]
    },
    {
      "cell_type": "code",
      "metadata": {
        "id": "v8x3w8fVG4Pj",
        "colab_type": "code",
        "colab": {
          "base_uri": "https://localhost:8080/",
          "height": 34
        },
        "outputId": "e4d58124-1dc7-4db7-bb3d-bf69c11b8b92"
      },
      "source": [
        "d={\"a\":8,\"b\":3,\"c\":4,\"d\":7}\n",
        "sum=0\n",
        "for i, value in d.items():\n",
        "  sum=sum+d[i]\n",
        "print(sum)\n"
      ],
      "execution_count": 22,
      "outputs": [
        {
          "output_type": "stream",
          "text": [
            "22\n"
          ],
          "name": "stdout"
        }
      ]
    },
    {
      "cell_type": "markdown",
      "metadata": {
        "id": "2DugacdKHnEI",
        "colab_type": "text"
      },
      "source": [
        "#contactenate dictionary"
      ]
    },
    {
      "cell_type": "code",
      "metadata": {
        "id": "0WxjJmcdH1_S",
        "colab_type": "code",
        "colab": {
          "base_uri": "https://localhost:8080/",
          "height": 34
        },
        "outputId": "9bbf7310-3cf7-4e70-a7ff-45102afcd8b5"
      },
      "source": [
        "dict1={1:10,2:20}\n",
        "dict2={3:30,4:40}\n",
        "dict3={5:50,6:60}\n",
        "dict2.update(dict3)\n",
        "dict1.update(dict2)\n",
        "print(dict4)"
      ],
      "execution_count": 36,
      "outputs": [
        {
          "output_type": "stream",
          "text": [
            "{1: 10, 2: 20, 3: 30, 4: 40, 5: 50, 6: 60}\n"
          ],
          "name": "stdout"
        }
      ]
    }
  ]
}